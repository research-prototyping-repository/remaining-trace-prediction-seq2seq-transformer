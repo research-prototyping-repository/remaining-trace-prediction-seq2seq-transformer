{
 "cells": [
  {
   "cell_type": "markdown",
   "metadata": {},
   "source": [
    "## Working environment"
   ]
  },
  {
   "cell_type": "code",
   "execution_count": 1,
   "metadata": {},
   "outputs": [],
   "source": [
    "# Import\n",
    "import os\n",
    "import numpy as np\n",
    "import pickle\n",
    "\n",
    "# Custom library\n",
    "from src.general.variables_control import variables\n",
    "from src.data.functions_preprocessing_data import load_interim_data, create_input_format, train_val_test_split\n",
    "from src.general.functions_report import report_preprocessing_benchmark\n",
    "from src.general.functions_time import get_timestamp"
   ]
  },
  {
   "cell_type": "code",
   "execution_count": 2,
   "metadata": {},
   "outputs": [],
   "source": [
    "# Set tensorflow to GPU-only (data is stored as tensors even when tf is not used)\n",
    "os.environ['CUDA_VISIBLE_DEVICES'] = '-1'"
   ]
  },
  {
   "cell_type": "code",
   "execution_count": 3,
   "metadata": {},
   "outputs": [
    {
     "name": "stdout",
     "output_type": "stream",
     "text": [
      "Working directory:  /home/jupyter-sfaatz\n"
     ]
    }
   ],
   "source": [
    "# Change working directory\n",
    "# working_directory = 'c:/Users/Steph/OneDrive - Universität Bayreuth/Masterarbeit/03_Programmierung/remaining_trace_prediction_master_thesis_stephan_faatz'\n",
    "working_directory = '/home/jupyter-sfaatz/'\n",
    "os.chdir(working_directory)\n",
    "print(\"Working directory: \", os.getcwd())"
   ]
  },
  {
   "cell_type": "markdown",
   "metadata": {
    "id": "qX5NwNZnqRNW"
   },
   "source": [
    "## Preprocessing pipeline\n"
   ]
  },
  {
   "cell_type": "markdown",
   "metadata": {
    "id": "3JRz3sTNuKmy"
   },
   "source": [
    "Naming Scheme:\n",
    "- time:timestamp = timestamp\n",
    "- concept:name = Activity ID\n",
    "- case:concept:name = Case ID\n",
    "- org:resource = Resource"
   ]
  },
  {
   "cell_type": "markdown",
   "metadata": {},
   "source": [
    "### Parameters"
   ]
  },
  {
   "cell_type": "code",
   "execution_count": 4,
   "metadata": {
    "executionInfo": {
     "elapsed": 9,
     "status": "ok",
     "timestamp": 1689413913671,
     "user": {
      "displayName": "Stephan F.",
      "userId": "04535378717482980778"
     },
     "user_tz": -120
    },
    "id": "qbZ-npwp92IX"
   },
   "outputs": [
    {
     "name": "stderr",
     "output_type": "stream",
     "text": [
      "2023-12-29 21:30:39.916902: I tensorflow/core/platform/cpu_feature_guard.cc:182] This TensorFlow binary is optimized to use available CPU instructions in performance-critical operations.\n",
      "To enable the following instructions: AVX2 FMA, in other operations, rebuild TensorFlow with the appropriate compiler flags.\n",
      "2023-12-29 21:30:40.552589: W tensorflow/compiler/tf2tensorrt/utils/py_utils.cc:38] TF-TRT Warning: Could not find TensorRT\n",
      "2023-12-29 21:30:41.072844: E tensorflow/compiler/xla/stream_executor/cuda/cuda_driver.cc:268] failed call to cuInit: CUDA_ERROR_NO_DEVICE: no CUDA-capable device is detected\n",
      "2023-12-29 21:30:41.072899: I tensorflow/compiler/xla/stream_executor/cuda/cuda_diagnostics.cc:168] retrieving CUDA diagnostic information for host: jupyter-ext-wi\n",
      "2023-12-29 21:30:41.072904: I tensorflow/compiler/xla/stream_executor/cuda/cuda_diagnostics.cc:175] hostname: jupyter-ext-wi\n",
      "2023-12-29 21:30:41.073080: I tensorflow/compiler/xla/stream_executor/cuda/cuda_diagnostics.cc:199] libcuda reported version is: 535.54.3\n",
      "2023-12-29 21:30:41.073101: I tensorflow/compiler/xla/stream_executor/cuda/cuda_diagnostics.cc:203] kernel reported version is: 535.54.3\n",
      "2023-12-29 21:30:41.073104: I tensorflow/compiler/xla/stream_executor/cuda/cuda_diagnostics.cc:309] kernel version seems to match DSO: 535.54.3\n"
     ]
    }
   ],
   "source": [
    "# Set path variables\n",
    "path_raw = 'data/raw/'\n",
    "path_interim = 'data/interim/'\n",
    "path_benchmark = 'data/benchmark/'\n",
    "path_data = 'data/processed/'\n",
    "path_control = 'data/control/'\n",
    "path_predictions = 'data/predictions/'\n",
    "path_models = 'models/'\n",
    "path_reports = 'reports/'\n",
    "\n",
    "\n",
    "# Initalize variables\n",
    "filename_variables = 'variables_helpdesk.pkl'\n",
    "\n",
    "with open(path_control + filename_variables, 'rb') as file:\n",
    "    variables = pickle.load(file)\n",
    "    \n",
    "# Get timestamp\n",
    "variables['timestamp_preprocessing_benchmark'] = get_timestamp()"
   ]
  },
  {
   "cell_type": "markdown",
   "metadata": {
    "id": "XUQNdcRvPoVT"
   },
   "source": [
    "### Load data"
   ]
  },
  {
   "cell_type": "code",
   "execution_count": 5,
   "metadata": {
    "colab": {
     "base_uri": "https://localhost:8080/",
     "height": 49,
     "referenced_widgets": [
      "409dee1842874c3893631eca6e79595b",
      "35fa3e5c6a89490d8ba6479d17c0223c",
      "df108e0c2bc947b8b9c14bfbfd3810d0",
      "ad25e3315b814318abc0502f9993e6cd",
      "4b4557cbd38b4092a11ea00dcb0405ec",
      "28bf4a7d0633400f9992b3ca241e16e6",
      "7b6474e39cb841f4a8dd05d8ce8485f0",
      "240b1d66dbc84efea17bad4c47de2f81",
      "3057d9271e6c4fb1880edf3993cf7671",
      "1228f2529dbd4cf9b5f88fdff6cf5779",
      "aedb2e56fffd4feabaafe76ee29d0bab"
     ]
    },
    "executionInfo": {
     "elapsed": 75084,
     "status": "ok",
     "timestamp": 1689413988748,
     "user": {
      "displayName": "Stephan F.",
      "userId": "04535378717482980778"
     },
     "user_tz": -120
    },
    "id": "_i5oujGxP5Pz",
    "outputId": "1278cbae-6a2b-4954-86d2-0dfc24343e0e"
   },
   "outputs": [
    {
     "name": "stdout",
     "output_type": "stream",
     "text": [
      "\n",
      "mapped_array shape:  (4255,)\n",
      "\n",
      "\n"
     ]
    }
   ],
   "source": [
    "# Load interim data\n",
    "mapped_array = load_interim_data(path_interim + variables['filename_interim_dataset'])"
   ]
  },
  {
   "cell_type": "code",
   "execution_count": 6,
   "metadata": {
    "colab": {
     "base_uri": "https://localhost:8080/"
    },
    "executionInfo": {
     "elapsed": 27,
     "status": "ok",
     "timestamp": 1689413988749,
     "user": {
      "displayName": "Stephan F.",
      "userId": "04535378717482980778"
     },
     "user_tz": -120
    },
    "id": "ehU0GP-Q0QbM",
    "outputId": "1fd58ed8-cd31-4372-a024-c31afa3999af"
   },
   "outputs": [
    {
     "name": "stdout",
     "output_type": "stream",
     "text": [
      "[array([4, 5, 5, 6, 7], dtype=object) array([4, 5, 6, 7], dtype=object)\n",
      " array([4, 5, 8, 6, 7], dtype=object) ...\n",
      " array([4, 5, 6, 7], dtype=object) array([4, 5, 9, 6, 7], dtype=object)\n",
      " array([4, 5, 6, 7], dtype=object)]\n"
     ]
    }
   ],
   "source": [
    "print(mapped_array)"
   ]
  },
  {
   "cell_type": "markdown",
   "metadata": {
    "id": "iTLXaDapN6Pf"
   },
   "source": [
    "### Create input format"
   ]
  },
  {
   "cell_type": "code",
   "execution_count": 7,
   "metadata": {
    "colab": {
     "base_uri": "https://localhost:8080/"
    },
    "executionInfo": {
     "elapsed": 659,
     "status": "ok",
     "timestamp": 1689413991352,
     "user": {
      "displayName": "Stephan F.",
      "userId": "04535378717482980778"
     },
     "user_tz": -120
    },
    "id": "yOWth0Ob9Q9d",
    "outputId": "dd3d360d-5ca4-4a5a-ef6c-4332814d069d"
   },
   "outputs": [
    {
     "name": "stderr",
     "output_type": "stream",
     "text": [
      "Processing Arrays: 100%|██████████| 4255/4255 [00:00<00:00, 7492.62it/s]\n"
     ]
    }
   ],
   "source": [
    "# Create input format\n",
    "x_input, y_input = create_input_format(mapped_array, variables['mapping'], variables['num_traces'], variables['max_length_trace'], variables['num_ex_activities'], num_features = variables['num_features'], benchmarking = True)"
   ]
  },
  {
   "cell_type": "markdown",
   "metadata": {
    "id": "qgLG7V0tN8tu"
   },
   "source": [
    "### Train-Test-Val split"
   ]
  },
  {
   "cell_type": "code",
   "execution_count": 8,
   "metadata": {
    "colab": {
     "base_uri": "https://localhost:8080/"
    },
    "executionInfo": {
     "elapsed": 118,
     "status": "ok",
     "timestamp": 1689413991353,
     "user": {
      "displayName": "Stephan F.",
      "userId": "04535378717482980778"
     },
     "user_tz": -120
    },
    "id": "JUgJDLMz2qB2",
    "outputId": "e8c70067-4f27-4517-d613-5854b987aa98"
   },
   "outputs": [
    {
     "name": "stdout",
     "output_type": "stream",
     "text": [
      "Number of training samples:    13166\n",
      "Number of validation samples:  2822\n",
      "Number of test samples:        2821\n"
     ]
    }
   ],
   "source": [
    "# Train test split\n",
    "x_train, y_train, x_val, y_val, x_test, y_test = train_val_test_split(x_input, y_input, train_size = 0.7, val_size = 0.15, test_size = 0.15)\n",
    "\n",
    "# Extract only the first value, because of training structure\n",
    "y_train = y_train[:, :1]\n",
    "y_val = y_val[:, :1]\n",
    "\n",
    "# Save shapes\n",
    "variables['x_train_shape_benchmark'] = x_train.shape\n",
    "variables['x_val_shape_benchmark'] = x_val.shape\n",
    "variables['x_test_shape_benchmark'] = x_test.shape"
   ]
  },
  {
   "cell_type": "markdown",
   "metadata": {
    "id": "kCfqYuRpN_b0"
   },
   "source": [
    "### Save data"
   ]
  },
  {
   "cell_type": "code",
   "execution_count": 9,
   "metadata": {
    "executionInfo": {
     "elapsed": 106,
     "status": "ok",
     "timestamp": 1689413991353,
     "user": {
      "displayName": "Stephan F.",
      "userId": "04535378717482980778"
     },
     "user_tz": -120
    },
    "id": "xGcDulDh97f1"
   },
   "outputs": [],
   "source": [
    "# Save the preprocessed data to file\n",
    "np.savez(path_benchmark + variables['filename_benchmark_dataset'], x_train=x_train, y_train=y_train, x_val = x_val, y_val = y_val, x_test = x_test, y_test = y_test)"
   ]
  },
  {
   "cell_type": "code",
   "execution_count": 10,
   "metadata": {},
   "outputs": [],
   "source": [
    "# Check if predictions file exists\n",
    "if os.path.isfile(path_predictions + variables['filename_predictions']):\n",
    "    # If the file exists, load it\n",
    "    data_predictions = np.load(path_predictions + variables['filename_predictions'])\n",
    "else:\n",
    "    # If not, create it\n",
    "    np.savez(path_predictions + variables['filename_predictions'], y_test_benchmark = y_test)\n",
    "    data_predictions = np.load(path_predictions + variables['filename_predictions'])\n",
    "\n",
    "data_predictions_dict = dict(data_predictions)\n",
    "data_predictions_dict['y_test_benchmark'] = y_test\n",
    "\n",
    "# Save the modified data back to the npz file\n",
    "np.savez(path_predictions + variables['filename_predictions'], **data_predictions_dict)"
   ]
  },
  {
   "cell_type": "code",
   "execution_count": 11,
   "metadata": {
    "executionInfo": {
     "elapsed": 112,
     "status": "ok",
     "timestamp": 1689413991360,
     "user": {
      "displayName": "Stephan F.",
      "userId": "04535378717482980778"
     },
     "user_tz": -120
    },
    "id": "UkvN9Sx397f1"
   },
   "outputs": [],
   "source": [
    "# Store variables in pickle file\n",
    "with open(path_control + filename_variables, 'wb') as file:\n",
    "    pickle.dump(variables, file)"
   ]
  },
  {
   "cell_type": "markdown",
   "metadata": {
    "id": "Q_qImvvVM-ZX"
   },
   "source": [
    "### Summary"
   ]
  },
  {
   "cell_type": "code",
   "execution_count": 12,
   "metadata": {
    "colab": {
     "base_uri": "https://localhost:8080/"
    },
    "executionInfo": {
     "elapsed": 112,
     "status": "ok",
     "timestamp": 1689413991362,
     "user": {
      "displayName": "Stephan F.",
      "userId": "04535378717482980778"
     },
     "user_tz": -120
    },
    "id": "6DXXxrUC4bZ6",
    "outputId": "ecef6319-3ae3-408e-c00b-15c33cc041a4"
   },
   "outputs": [
    {
     "name": "stdout",
     "output_type": "stream",
     "text": [
      "Summary:\n",
      "\n",
      "\n",
      "Dataset:                 helpdesk.csv\n",
      "Filename interim data:   interim_data_helpdesk.npz\n",
      "Filename benchmark data: benchmark_data_helpdesk.npz\n",
      "Filename variables:      variables_helpdesk.pkl\n",
      "\n",
      "\n",
      "Samples in training:     (13166, 6)\n",
      "Samples in validation:   (2822, 6)\n",
      "Samples in test:         (2821, 6)\n",
      "\n",
      "Report has been written to 'reports/preprocessing/benchmark/2023-12-29_21-30-41_report_preprocessing_pdesk.txt'\n"
     ]
    }
   ],
   "source": [
    "report_preprocessing_benchmark(filename_variables, variables, variables['timestamp_preprocessing_benchmark'], path_reports)"
   ]
  },
  {
   "cell_type": "code",
   "execution_count": null,
   "metadata": {},
   "outputs": [],
   "source": []
  }
 ],
 "metadata": {
  "colab": {
   "gpuType": "T4",
   "provenance": [
    {
     "file_id": "1gQ5uLQxe77ga1U2UdPt06muS8kExHZbK",
     "timestamp": 1689324413467
    }
   ],
   "toc_visible": true
  },
  "kernelspec": {
   "display_name": "env",
   "language": "python",
   "name": "env"
  },
  "language_info": {
   "codemirror_mode": {
    "name": "ipython",
    "version": 3
   },
   "file_extension": ".py",
   "mimetype": "text/x-python",
   "name": "python",
   "nbconvert_exporter": "python",
   "pygments_lexer": "ipython3",
   "version": "3.9.2"
  },
  "widgets": {
   "application/vnd.jupyter.widget-state+json": {
    "1228f2529dbd4cf9b5f88fdff6cf5779": {
     "model_module": "@jupyter-widgets/base",
     "model_module_version": "1.2.0",
     "model_name": "LayoutModel",
     "state": {
      "_model_module": "@jupyter-widgets/base",
      "_model_module_version": "1.2.0",
      "_model_name": "LayoutModel",
      "_view_count": null,
      "_view_module": "@jupyter-widgets/base",
      "_view_module_version": "1.2.0",
      "_view_name": "LayoutView",
      "align_content": null,
      "align_items": null,
      "align_self": null,
      "border": null,
      "bottom": null,
      "display": null,
      "flex": null,
      "flex_flow": null,
      "grid_area": null,
      "grid_auto_columns": null,
      "grid_auto_flow": null,
      "grid_auto_rows": null,
      "grid_column": null,
      "grid_gap": null,
      "grid_row": null,
      "grid_template_areas": null,
      "grid_template_columns": null,
      "grid_template_rows": null,
      "height": null,
      "justify_content": null,
      "justify_items": null,
      "left": null,
      "margin": null,
      "max_height": null,
      "max_width": null,
      "min_height": null,
      "min_width": null,
      "object_fit": null,
      "object_position": null,
      "order": null,
      "overflow": null,
      "overflow_x": null,
      "overflow_y": null,
      "padding": null,
      "right": null,
      "top": null,
      "visibility": null,
      "width": null
     }
    },
    "240b1d66dbc84efea17bad4c47de2f81": {
     "model_module": "@jupyter-widgets/base",
     "model_module_version": "1.2.0",
     "model_name": "LayoutModel",
     "state": {
      "_model_module": "@jupyter-widgets/base",
      "_model_module_version": "1.2.0",
      "_model_name": "LayoutModel",
      "_view_count": null,
      "_view_module": "@jupyter-widgets/base",
      "_view_module_version": "1.2.0",
      "_view_name": "LayoutView",
      "align_content": null,
      "align_items": null,
      "align_self": null,
      "border": null,
      "bottom": null,
      "display": null,
      "flex": null,
      "flex_flow": null,
      "grid_area": null,
      "grid_auto_columns": null,
      "grid_auto_flow": null,
      "grid_auto_rows": null,
      "grid_column": null,
      "grid_gap": null,
      "grid_row": null,
      "grid_template_areas": null,
      "grid_template_columns": null,
      "grid_template_rows": null,
      "height": null,
      "justify_content": null,
      "justify_items": null,
      "left": null,
      "margin": null,
      "max_height": null,
      "max_width": null,
      "min_height": null,
      "min_width": null,
      "object_fit": null,
      "object_position": null,
      "order": null,
      "overflow": null,
      "overflow_x": null,
      "overflow_y": null,
      "padding": null,
      "right": null,
      "top": null,
      "visibility": null,
      "width": null
     }
    },
    "28bf4a7d0633400f9992b3ca241e16e6": {
     "model_module": "@jupyter-widgets/base",
     "model_module_version": "1.2.0",
     "model_name": "LayoutModel",
     "state": {
      "_model_module": "@jupyter-widgets/base",
      "_model_module_version": "1.2.0",
      "_model_name": "LayoutModel",
      "_view_count": null,
      "_view_module": "@jupyter-widgets/base",
      "_view_module_version": "1.2.0",
      "_view_name": "LayoutView",
      "align_content": null,
      "align_items": null,
      "align_self": null,
      "border": null,
      "bottom": null,
      "display": null,
      "flex": null,
      "flex_flow": null,
      "grid_area": null,
      "grid_auto_columns": null,
      "grid_auto_flow": null,
      "grid_auto_rows": null,
      "grid_column": null,
      "grid_gap": null,
      "grid_row": null,
      "grid_template_areas": null,
      "grid_template_columns": null,
      "grid_template_rows": null,
      "height": null,
      "justify_content": null,
      "justify_items": null,
      "left": null,
      "margin": null,
      "max_height": null,
      "max_width": null,
      "min_height": null,
      "min_width": null,
      "object_fit": null,
      "object_position": null,
      "order": null,
      "overflow": null,
      "overflow_x": null,
      "overflow_y": null,
      "padding": null,
      "right": null,
      "top": null,
      "visibility": null,
      "width": null
     }
    },
    "3057d9271e6c4fb1880edf3993cf7671": {
     "model_module": "@jupyter-widgets/controls",
     "model_module_version": "1.5.0",
     "model_name": "ProgressStyleModel",
     "state": {
      "_model_module": "@jupyter-widgets/controls",
      "_model_module_version": "1.5.0",
      "_model_name": "ProgressStyleModel",
      "_view_count": null,
      "_view_module": "@jupyter-widgets/base",
      "_view_module_version": "1.2.0",
      "_view_name": "StyleView",
      "bar_color": null,
      "description_width": ""
     }
    },
    "35fa3e5c6a89490d8ba6479d17c0223c": {
     "model_module": "@jupyter-widgets/controls",
     "model_module_version": "1.5.0",
     "model_name": "HTMLModel",
     "state": {
      "_dom_classes": [],
      "_model_module": "@jupyter-widgets/controls",
      "_model_module_version": "1.5.0",
      "_model_name": "HTMLModel",
      "_view_count": null,
      "_view_module": "@jupyter-widgets/controls",
      "_view_module_version": "1.5.0",
      "_view_name": "HTMLView",
      "description": "",
      "description_tooltip": null,
      "layout": "IPY_MODEL_28bf4a7d0633400f9992b3ca241e16e6",
      "placeholder": "​",
      "style": "IPY_MODEL_7b6474e39cb841f4a8dd05d8ce8485f0",
      "value": "parsing log, completed traces :: 100%"
     }
    },
    "409dee1842874c3893631eca6e79595b": {
     "model_module": "@jupyter-widgets/controls",
     "model_module_version": "1.5.0",
     "model_name": "HBoxModel",
     "state": {
      "_dom_classes": [],
      "_model_module": "@jupyter-widgets/controls",
      "_model_module_version": "1.5.0",
      "_model_name": "HBoxModel",
      "_view_count": null,
      "_view_module": "@jupyter-widgets/controls",
      "_view_module_version": "1.5.0",
      "_view_name": "HBoxView",
      "box_style": "",
      "children": [
       "IPY_MODEL_35fa3e5c6a89490d8ba6479d17c0223c",
       "IPY_MODEL_df108e0c2bc947b8b9c14bfbfd3810d0",
       "IPY_MODEL_ad25e3315b814318abc0502f9993e6cd"
      ],
      "layout": "IPY_MODEL_4b4557cbd38b4092a11ea00dcb0405ec"
     }
    },
    "4b4557cbd38b4092a11ea00dcb0405ec": {
     "model_module": "@jupyter-widgets/base",
     "model_module_version": "1.2.0",
     "model_name": "LayoutModel",
     "state": {
      "_model_module": "@jupyter-widgets/base",
      "_model_module_version": "1.2.0",
      "_model_name": "LayoutModel",
      "_view_count": null,
      "_view_module": "@jupyter-widgets/base",
      "_view_module_version": "1.2.0",
      "_view_name": "LayoutView",
      "align_content": null,
      "align_items": null,
      "align_self": null,
      "border": null,
      "bottom": null,
      "display": null,
      "flex": null,
      "flex_flow": null,
      "grid_area": null,
      "grid_auto_columns": null,
      "grid_auto_flow": null,
      "grid_auto_rows": null,
      "grid_column": null,
      "grid_gap": null,
      "grid_row": null,
      "grid_template_areas": null,
      "grid_template_columns": null,
      "grid_template_rows": null,
      "height": null,
      "justify_content": null,
      "justify_items": null,
      "left": null,
      "margin": null,
      "max_height": null,
      "max_width": null,
      "min_height": null,
      "min_width": null,
      "object_fit": null,
      "object_position": null,
      "order": null,
      "overflow": null,
      "overflow_x": null,
      "overflow_y": null,
      "padding": null,
      "right": null,
      "top": null,
      "visibility": null,
      "width": null
     }
    },
    "7b6474e39cb841f4a8dd05d8ce8485f0": {
     "model_module": "@jupyter-widgets/controls",
     "model_module_version": "1.5.0",
     "model_name": "DescriptionStyleModel",
     "state": {
      "_model_module": "@jupyter-widgets/controls",
      "_model_module_version": "1.5.0",
      "_model_name": "DescriptionStyleModel",
      "_view_count": null,
      "_view_module": "@jupyter-widgets/base",
      "_view_module_version": "1.2.0",
      "_view_name": "StyleView",
      "description_width": ""
     }
    },
    "ad25e3315b814318abc0502f9993e6cd": {
     "model_module": "@jupyter-widgets/controls",
     "model_module_version": "1.5.0",
     "model_name": "HTMLModel",
     "state": {
      "_dom_classes": [],
      "_model_module": "@jupyter-widgets/controls",
      "_model_module_version": "1.5.0",
      "_model_name": "HTMLModel",
      "_view_count": null,
      "_view_module": "@jupyter-widgets/controls",
      "_view_module_version": "1.5.0",
      "_view_name": "HTMLView",
      "description": "",
      "description_tooltip": null,
      "layout": "IPY_MODEL_1228f2529dbd4cf9b5f88fdff6cf5779",
      "placeholder": "​",
      "style": "IPY_MODEL_aedb2e56fffd4feabaafe76ee29d0bab",
      "value": " 100000/100000 [00:45&lt;00:00, 5448.25it/s]"
     }
    },
    "aedb2e56fffd4feabaafe76ee29d0bab": {
     "model_module": "@jupyter-widgets/controls",
     "model_module_version": "1.5.0",
     "model_name": "DescriptionStyleModel",
     "state": {
      "_model_module": "@jupyter-widgets/controls",
      "_model_module_version": "1.5.0",
      "_model_name": "DescriptionStyleModel",
      "_view_count": null,
      "_view_module": "@jupyter-widgets/base",
      "_view_module_version": "1.2.0",
      "_view_name": "StyleView",
      "description_width": ""
     }
    },
    "df108e0c2bc947b8b9c14bfbfd3810d0": {
     "model_module": "@jupyter-widgets/controls",
     "model_module_version": "1.5.0",
     "model_name": "FloatProgressModel",
     "state": {
      "_dom_classes": [],
      "_model_module": "@jupyter-widgets/controls",
      "_model_module_version": "1.5.0",
      "_model_name": "FloatProgressModel",
      "_view_count": null,
      "_view_module": "@jupyter-widgets/controls",
      "_view_module_version": "1.5.0",
      "_view_name": "ProgressView",
      "bar_style": "success",
      "description": "",
      "description_tooltip": null,
      "layout": "IPY_MODEL_240b1d66dbc84efea17bad4c47de2f81",
      "max": 100000,
      "min": 0,
      "orientation": "horizontal",
      "style": "IPY_MODEL_3057d9271e6c4fb1880edf3993cf7671",
      "value": 100000
     }
    }
   }
  }
 },
 "nbformat": 4,
 "nbformat_minor": 4
}
