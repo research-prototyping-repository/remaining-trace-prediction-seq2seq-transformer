{
 "cells": [
  {
   "cell_type": "markdown",
   "metadata": {},
   "source": [
    "## Working environment"
   ]
  },
  {
   "cell_type": "code",
   "execution_count": 1,
   "metadata": {},
   "outputs": [],
   "source": [
    "# Import\n",
    "import os\n",
    "import numpy as np\n",
    "import pickle\n",
    "\n",
    "# Custom library\n",
    "from src.general.variables_control import variables\n",
    "from src.data.functions_preprocessing_data import load_data, data_cleaning, extract_meta_data, create_traces, tokenizer, create_input_format, train_val_test_split\n",
    "from src.data.functions_exploration_data import descriptive_statistics\n",
    "from src.general.functions_report import report_preprocessing\n",
    "from src.general.functions_time import get_timestamp"
   ]
  },
  {
   "cell_type": "code",
   "execution_count": 2,
   "metadata": {},
   "outputs": [],
   "source": [
    "# Set tensorflow to GPU-only (data is stored as tensors even when tf is not used)\n",
    "os.environ['CUDA_VISIBLE_DEVICES'] = '-1'"
   ]
  },
  {
   "cell_type": "code",
   "execution_count": 3,
   "metadata": {},
   "outputs": [
    {
     "name": "stdout",
     "output_type": "stream",
     "text": [
      "Working directory:  /home/jupyter-sfaatz\n"
     ]
    }
   ],
   "source": [
    "# Change working directory\n",
    "# working_directory = 'c:/Users/Steph/OneDrive - Universität Bayreuth/Masterarbeit/03_Programmierung/remaining_trace_prediction_master_thesis_stephan_faatz'\n",
    "working_directory = '/home/jupyter-sfaatz/'\n",
    "os.chdir(working_directory)\n",
    "print(\"Working directory: \", os.getcwd())"
   ]
  },
  {
   "cell_type": "markdown",
   "metadata": {
    "id": "qX5NwNZnqRNW"
   },
   "source": [
    "## Preprocessing pipeline\n"
   ]
  },
  {
   "cell_type": "markdown",
   "metadata": {
    "id": "3JRz3sTNuKmy"
   },
   "source": [
    "Naming Scheme:\n",
    "- time:timestamp = timestamp\n",
    "- concept:name = Activity ID\n",
    "- case:concept:name = Case ID\n",
    "- org:resource = Resource"
   ]
  },
  {
   "cell_type": "markdown",
   "metadata": {},
   "source": [
    "### Parameters"
   ]
  },
  {
   "cell_type": "code",
   "execution_count": 4,
   "metadata": {
    "executionInfo": {
     "elapsed": 9,
     "status": "ok",
     "timestamp": 1689413913671,
     "user": {
      "displayName": "Stephan F.",
      "userId": "04535378717482980778"
     },
     "user_tz": -120
    },
    "id": "qbZ-npwp92IX"
   },
   "outputs": [
    {
     "name": "stdout",
     "output_type": "stream",
     "text": [
      "Control file exists:  data/control/variables_helpdesk_true.pkl\n"
     ]
    },
    {
     "name": "stderr",
     "output_type": "stream",
     "text": [
      "2023-12-29 21:28:35.251736: I tensorflow/core/platform/cpu_feature_guard.cc:182] This TensorFlow binary is optimized to use available CPU instructions in performance-critical operations.\n",
      "To enable the following instructions: AVX2 FMA, in other operations, rebuild TensorFlow with the appropriate compiler flags.\n",
      "2023-12-29 21:28:35.921607: W tensorflow/compiler/tf2tensorrt/utils/py_utils.cc:38] TF-TRT Warning: Could not find TensorRT\n",
      "2023-12-29 21:28:36.469326: E tensorflow/compiler/xla/stream_executor/cuda/cuda_driver.cc:268] failed call to cuInit: CUDA_ERROR_NO_DEVICE: no CUDA-capable device is detected\n",
      "2023-12-29 21:28:36.469368: I tensorflow/compiler/xla/stream_executor/cuda/cuda_diagnostics.cc:168] retrieving CUDA diagnostic information for host: jupyter-ext-wi\n",
      "2023-12-29 21:28:36.469373: I tensorflow/compiler/xla/stream_executor/cuda/cuda_diagnostics.cc:175] hostname: jupyter-ext-wi\n",
      "2023-12-29 21:28:36.469528: I tensorflow/compiler/xla/stream_executor/cuda/cuda_diagnostics.cc:199] libcuda reported version is: 535.54.3\n",
      "2023-12-29 21:28:36.469546: I tensorflow/compiler/xla/stream_executor/cuda/cuda_diagnostics.cc:203] kernel reported version is: 535.54.3\n",
      "2023-12-29 21:28:36.469549: I tensorflow/compiler/xla/stream_executor/cuda/cuda_diagnostics.cc:309] kernel version seems to match DSO: 535.54.3\n"
     ]
    }
   ],
   "source": [
    "# Set path variables\n",
    "path_raw = 'data/raw/'\n",
    "path_interim = 'data/interim/'\n",
    "path_benchmark = 'data/benchmark/'\n",
    "path_data = 'data/processed/'\n",
    "path_control = 'data/control/'\n",
    "path_predictions = 'data/predictions/'\n",
    "path_models = 'models/'\n",
    "path_reports = 'reports/'\n",
    "\n",
    "\n",
    "# Initiate control file\n",
    "filename_variables = 'variables_helpdesk_true.pkl'\n",
    "path_file_control = os.path.join(path_control, filename_variables)\n",
    "\n",
    "if os.path.exists(path_file_control): # Check if the file already exists and then laod it, to not potentially cause data loss from training etc.\n",
    "    print(\"Control file exists: \", path_file_control)\n",
    "    with open(path_file_control, 'rb') as file:\n",
    "        variables_old = pickle.load(file)\n",
    "        variables.update(variables_old)  # Update mechanism in case the structure of variables was extended\n",
    "else:\n",
    "    print(f\"Control file not found: {path_file_control} \\nNew control file creation initiated.\")\n",
    "\n",
    "# Set filenames\n",
    "variables['filename_dataset'] = 'helpdesk.csv'\n",
    "variables['filename_processed_dataset'] = 'preprocessed_data_'+ filename_variables[10:][:-4] + '.npz'\n",
    "variables['filename_predictions'] = 'predictions_' + filename_variables[10:][:-4] + '.npz'\n",
    "variables['filename_interim_dataset'] = 'interim_data_' + filename_variables[10:][:-4] + '.npz'\n",
    "variables['filename_benchmark_dataset'] = 'benchmark_data_' + filename_variables[10:][:-4] + '.npz'\n",
    "\n",
    "# Get timestamp\n",
    "variables['timestamp_preprocessing'] = get_timestamp()\n",
    "\n",
    "# Set params\n",
    "variables['trace_length_min'] = 1\n",
    "variables['interleave'] = True\n",
    "variables['features'] = ['concept:name', 'org:resource'] # ['concept:name', 'org:resource']\n",
    "\n",
    "# Input features\n",
    "if variables['filename_dataset'] == 'helpdesk.csv':\n",
    "    variables['input_features'] = ['Complete Timestamp','Case ID','Activity', 'Resource'] # Helpdesk\n",
    "else:\n",
    "    variables['input_features'] = ['time:timestamp','case:concept:name','concept:name', 'org:resource'] # Standard\n"
   ]
  },
  {
   "cell_type": "markdown",
   "metadata": {
    "id": "XUQNdcRvPoVT"
   },
   "source": [
    "### Load data"
   ]
  },
  {
   "cell_type": "code",
   "execution_count": 5,
   "metadata": {
    "colab": {
     "base_uri": "https://localhost:8080/",
     "height": 49,
     "referenced_widgets": [
      "409dee1842874c3893631eca6e79595b",
      "35fa3e5c6a89490d8ba6479d17c0223c",
      "df108e0c2bc947b8b9c14bfbfd3810d0",
      "ad25e3315b814318abc0502f9993e6cd",
      "4b4557cbd38b4092a11ea00dcb0405ec",
      "28bf4a7d0633400f9992b3ca241e16e6",
      "7b6474e39cb841f4a8dd05d8ce8485f0",
      "240b1d66dbc84efea17bad4c47de2f81",
      "3057d9271e6c4fb1880edf3993cf7671",
      "1228f2529dbd4cf9b5f88fdff6cf5779",
      "aedb2e56fffd4feabaafe76ee29d0bab"
     ]
    },
    "executionInfo": {
     "elapsed": 75084,
     "status": "ok",
     "timestamp": 1689413988748,
     "user": {
      "displayName": "Stephan F.",
      "userId": "04535378717482980778"
     },
     "user_tz": -120
    },
    "id": "_i5oujGxP5Pz",
    "outputId": "1278cbae-6a2b-4954-86d2-0dfc24343e0e"
   },
   "outputs": [],
   "source": [
    "# Load the dataset\n",
    "data = load_data(path_raw + variables['filename_dataset'], variables['input_features'])"
   ]
  },
  {
   "cell_type": "code",
   "execution_count": 6,
   "metadata": {
    "colab": {
     "base_uri": "https://localhost:8080/"
    },
    "executionInfo": {
     "elapsed": 27,
     "status": "ok",
     "timestamp": 1689413988749,
     "user": {
      "displayName": "Stephan F.",
      "userId": "04535378717482980778"
     },
     "user_tz": -120
    },
    "id": "ehU0GP-Q0QbM",
    "outputId": "1fd58ed8-cd31-4372-a024-c31afa3999af"
   },
   "outputs": [
    {
     "name": "stdout",
     "output_type": "stream",
     "text": [
      "          time:timestamp case:concept:name           concept:name org:resource\n",
      "0    2012-10-09 14:50:17            Case 1     Assign seriousness      Value 1\n",
      "1    2012-10-09 14:51:01            Case 1  Take in charge ticket      Value 1\n",
      "2    2012-10-12 15:02:56            Case 1  Take in charge ticket      Value 2\n",
      "3    2012-10-25 11:54:26            Case 1         Resolve ticket      Value 1\n",
      "4    2012-11-09 12:54:39            Case 1                 Closed      Value 3\n",
      "...                  ...               ...                    ...          ...\n",
      "4611 2013-01-04 16:51:50          Case 998                 Closed      Value 3\n",
      "4612 2013-02-12 16:06:37          Case 999     Assign seriousness      Value 1\n",
      "4613 2013-02-25 11:37:20          Case 999  Take in charge ticket     Value 12\n",
      "4614 2013-03-14 16:24:30          Case 999         Resolve ticket     Value 12\n",
      "4615 2013-03-29 16:24:45          Case 999                 Closed      Value 3\n",
      "\n",
      "[21348 rows x 4 columns]\n"
     ]
    }
   ],
   "source": [
    "print(data)"
   ]
  },
  {
   "cell_type": "code",
   "execution_count": 7,
   "metadata": {},
   "outputs": [
    {
     "name": "stdout",
     "output_type": "stream",
     "text": [
      "Number of activites:           21348\n",
      "Number of resources:           21348\n",
      "Unique activites:              36\n",
      "Unique resources:              22\n",
      "Number of cases:               4580\n",
      "Unique processes:              226\n",
      "Maximum case length:           15\n",
      "Minimum case length:           2\n",
      "Average case length:           4.66\n",
      "99.99% percentile:             14.542099999999664\n",
      "99.00% percentile:             9.0\n",
      "95.00% percentile:             7.0\n",
      "75.00% percentile:             5.0\n",
      "50.00% percentile:             4.0\n",
      "25.00% percentile:             4.0\n",
      "concept:name nan values:        0\n",
      "org:resource nan values:        0\n",
      "Variance of occurence counts:  26527.315870206494\n",
      "Variance in process:           25.130576903828306\n"
     ]
    }
   ],
   "source": [
    "# Calulate descriptive statistics before data cleaning\n",
    "descriptive_statistics(data, variables['features'])"
   ]
  },
  {
   "cell_type": "markdown",
   "metadata": {
    "id": "18XfLuZsX9lh"
   },
   "source": [
    "### Data cleaning"
   ]
  },
  {
   "cell_type": "code",
   "execution_count": 8,
   "metadata": {
    "colab": {
     "base_uri": "https://localhost:8080/"
    },
    "executionInfo": {
     "elapsed": 1047,
     "status": "ok",
     "timestamp": 1689413989776,
     "user": {
      "displayName": "Stephan F.",
      "userId": "04535378717482980778"
     },
     "user_tz": -120
    },
    "id": "gBe81OumPtyJ",
    "outputId": "c58afcfa-e253-49aa-bff9-acd4b92c7fd0"
   },
   "outputs": [
    {
     "name": "stdout",
     "output_type": "stream",
     "text": [
      "Remove traces containing nan:\n",
      "0 traces removed.\n",
      "0.0 % of traces removed.\n",
      "\n",
      "Remove too long traces:\n",
      "Upper bound of 6.5 applied.\n",
      "Traces longer than 6 events removed.\n",
      "325 values removed.\n",
      "\n",
      "Remove too short traces:\n",
      "Traces shorter than 1 events removed.\n",
      "0 values removed.\n",
      "\n",
      "Spaces in the concept:name column replaced by '-'.\n",
      "22233 values replaced.\n",
      "\n"
     ]
    }
   ],
   "source": [
    "# Data cleaning\n",
    "data = data_cleaning(data, variables['trace_length_min'])"
   ]
  },
  {
   "cell_type": "code",
   "execution_count": 9,
   "metadata": {},
   "outputs": [
    {
     "name": "stdout",
     "output_type": "stream",
     "text": [
      "Number of activites:           18809\n",
      "Number of resources:           18809\n",
      "Unique activites:              32\n",
      "Unique resources:              22\n",
      "Number of cases:               4255\n",
      "Unique processes:              95\n",
      "Maximum case length:           6\n",
      "Minimum case length:           2\n",
      "Average case length:           4.42\n",
      "99.99% percentile:             6.0\n",
      "99.00% percentile:             6.0\n",
      "95.00% percentile:             6.0\n",
      "75.00% percentile:             5.0\n",
      "50.00% percentile:             4.0\n",
      "25.00% percentile:             4.0\n",
      "concept:name nan values:        0\n",
      "org:resource nan values:        0\n",
      "Variance of occurence counts:  62417.402015677544\n",
      "Variance in process:           11.836176938076685\n"
     ]
    }
   ],
   "source": [
    "# Calulate descriptive statistics after data cleaning\n",
    "descriptive_statistics(data, variables['features'])"
   ]
  },
  {
   "cell_type": "markdown",
   "metadata": {
    "id": "af24eeQJN1lb"
   },
   "source": [
    "### Create traces"
   ]
  },
  {
   "cell_type": "code",
   "execution_count": 10,
   "metadata": {
    "colab": {
     "base_uri": "https://localhost:8080/"
    },
    "executionInfo": {
     "elapsed": 27,
     "status": "ok",
     "timestamp": 1689413989777,
     "user": {
      "displayName": "Stephan F.",
      "userId": "04535378717482980778"
     },
     "user_tz": -120
    },
    "id": "fziGwwO51f8E",
    "outputId": "624cb00c-c879-465c-b78f-bac3500e5040"
   },
   "outputs": [
    {
     "name": "stdout",
     "output_type": "stream",
     "text": [
      "Summary: \n",
      "vocab:                 ['<pad>' '<unk>' '<start>' '<end>' 'Assign-seriousness'\n",
      " 'Take-in-charge-ticket']\n",
      "vocab_size:            36\n",
      "max_length_trace:      6\n",
      "num_traces:            4255\n",
      "num_ex_activities:     18809\n",
      "\n",
      "\n",
      "Features: \n",
      "num_features:          2\n",
      "Feature:               concept:name\n",
      "Feature:               org:resource\n"
     ]
    }
   ],
   "source": [
    " # Extract the meta data\n",
    "variables['vocab'], variables['vocab_size'], variables['max_length_trace'], variables['num_traces'], variables['num_ex_activities'], variables['num_features'] = extract_meta_data(data,'case:concept:name',variables['features'])"
   ]
  },
  {
   "cell_type": "code",
   "execution_count": 11,
   "metadata": {
    "executionInfo": {
     "elapsed": 956,
     "status": "ok",
     "timestamp": 1689413990719,
     "user": {
      "displayName": "Stephan F.",
      "userId": "04535378717482980778"
     },
     "user_tz": -120
    },
    "id": "S7JQAFt61n5N"
   },
   "outputs": [],
   "source": [
    "# Create the traces\n",
    "traces = create_traces(data, variables['features'], interleave = variables['interleave'])"
   ]
  },
  {
   "cell_type": "code",
   "execution_count": 12,
   "metadata": {
    "colab": {
     "base_uri": "https://localhost:8080/"
    },
    "executionInfo": {
     "elapsed": 57,
     "status": "ok",
     "timestamp": 1689413990719,
     "user": {
      "displayName": "Stephan F.",
      "userId": "04535378717482980778"
     },
     "user_tz": -120
    },
    "id": "OUTDkbsKEebM",
    "outputId": "dcdd7d87-6af3-42fe-aa11-8aaf4c4c72b9"
   },
   "outputs": [
    {
     "name": "stdout",
     "output_type": "stream",
     "text": [
      "[array(['Assign-seriousness', 'Value 1', 'Take-in-charge-ticket',\n",
      "        'Value 1', 'Take-in-charge-ticket', 'Value 2', 'Resolve-ticket',\n",
      "        'Value 1', 'Closed', 'Value 3'], dtype=object)\n",
      " array(['Assign-seriousness', 'Value 2', 'Take-in-charge-ticket',\n",
      "        'Value 2', 'Resolve-ticket', 'Value 2', 'Closed', 'Value 5'],\n",
      "       dtype=object)\n",
      " array(['Assign-seriousness', 'Value 1', 'Take-in-charge-ticket',\n",
      "        'Value 9', 'Require-upgrade', 'Value 9', 'Resolve-ticket',\n",
      "        'Value 2', 'Closed', 'Value 3'], dtype=object)             ...\n",
      " array(['Assign-seriousness', 'Value 1', 'Take-in-charge-ticket',\n",
      "        'Value 13', 'Resolve-ticket', 'Value 13', 'Closed', 'Value 5'],\n",
      "       dtype=object)\n",
      " array(['Assign-seriousness', 'Value 9', 'Take-in-charge-ticket',\n",
      "        'Value 2', 'Wait', 'Value 9', 'Resolve-ticket', 'Value 9',\n",
      "        'Closed', 'Value 3'], dtype=object)\n",
      " array(['Assign-seriousness', 'Value 1', 'Take-in-charge-ticket',\n",
      "        'Value 12', 'Resolve-ticket', 'Value 12', 'Closed', 'Value 3'],\n",
      "       dtype=object)                                                   ]\n"
     ]
    }
   ],
   "source": [
    "print(traces)"
   ]
  },
  {
   "cell_type": "markdown",
   "metadata": {
    "id": "rxDPaORPN4Do"
   },
   "source": [
    "### Tokenizing"
   ]
  },
  {
   "cell_type": "code",
   "execution_count": 13,
   "metadata": {
    "colab": {
     "base_uri": "https://localhost:8080/"
    },
    "executionInfo": {
     "elapsed": 50,
     "status": "ok",
     "timestamp": 1689413990720,
     "user": {
      "displayName": "Stephan F.",
      "userId": "04535378717482980778"
     },
     "user_tz": -120
    },
    "id": "BQnhI6SB8Q_N",
    "outputId": "b7968edf-9303-4f7c-815c-bd288515022c"
   },
   "outputs": [
    {
     "name": "stderr",
     "output_type": "stream",
     "text": [
      "Mapping: 100%|██████████| 4255/4255 [00:00<00:00, 709500.02it/s]\n",
      "Processing Arrays: 100%|██████████| 4255/4255 [00:00<00:00, 1469353.16it/s]\n"
     ]
    }
   ],
   "source": [
    "# Tokenize traces\n",
    "mapped_array, variables['mapping'] = tokenizer(traces, variables['vocab'])\n",
    "np.savez(path_interim + variables['filename_interim_dataset'], mapped_array=mapped_array)\n"
   ]
  },
  {
   "cell_type": "code",
   "execution_count": 14,
   "metadata": {
    "colab": {
     "base_uri": "https://localhost:8080/"
    },
    "executionInfo": {
     "elapsed": 35,
     "status": "ok",
     "timestamp": 1689413990720,
     "user": {
      "displayName": "Stephan F.",
      "userId": "04535378717482980778"
     },
     "user_tz": -120
    },
    "id": "R19ch6SjM_cm",
    "outputId": "aaa00bf7-7595-42c4-87ac-ff1b8d5c93df"
   },
   "outputs": [
    {
     "name": "stdout",
     "output_type": "stream",
     "text": [
      "{'<pad>': 0, '<unk>': 1, '<start>': 2, '<end>': 3, 'Assign-seriousness': 4, 'Take-in-charge-ticket': 5, 'Resolve-ticket': 6, 'Closed': 7, 'Require-upgrade': 8, 'Wait': 9, 'Insert-ticket': 10, 'Create-SW-anomaly': 11, 'Schedule-intervention': 12, 'Resolve-SW-anomaly': 13, 'Value 1': 14, 'Value 2': 15, 'Value 3': 16, 'Value 5': 17, 'Value 9': 18, 'Value 4': 19, 'Value 19': 20, 'Value 8': 21, 'Value 12': 22, 'Value 16': 23, 'Value 15': 24, 'Value 14': 25, 'Value 6': 26, 'Value 13': 27, 'Value 10': 28, 'Value 17': 29, 'Value 7': 30, 'Value 18': 31, 'Value 11': 32, 'Value 20': 33, 'Value 21': 34, 'Value 22': 35}\n"
     ]
    }
   ],
   "source": [
    "print(variables['mapping'])"
   ]
  },
  {
   "cell_type": "markdown",
   "metadata": {
    "id": "iTLXaDapN6Pf"
   },
   "source": [
    "### Create input format"
   ]
  },
  {
   "cell_type": "code",
   "execution_count": 15,
   "metadata": {
    "colab": {
     "base_uri": "https://localhost:8080/"
    },
    "executionInfo": {
     "elapsed": 659,
     "status": "ok",
     "timestamp": 1689413991352,
     "user": {
      "displayName": "Stephan F.",
      "userId": "04535378717482980778"
     },
     "user_tz": -120
    },
    "id": "yOWth0Ob9Q9d",
    "outputId": "dd3d360d-5ca4-4a5a-ef6c-4332814d069d"
   },
   "outputs": [
    {
     "name": "stderr",
     "output_type": "stream",
     "text": [
      "Processing Arrays: 100%|██████████| 4255/4255 [00:01<00:00, 2848.45it/s]\n"
     ]
    }
   ],
   "source": [
    "# Create the input format\n",
    "x_input, y_input = create_input_format(mapped_array, variables['mapping'], variables['num_traces'], variables['max_length_trace'], variables['num_ex_activities'], num_features = variables['num_features'], interleave = variables['interleave'])"
   ]
  },
  {
   "cell_type": "markdown",
   "metadata": {
    "id": "qgLG7V0tN8tu"
   },
   "source": [
    "### Train-Test-Val split"
   ]
  },
  {
   "cell_type": "code",
   "execution_count": 16,
   "metadata": {
    "colab": {
     "base_uri": "https://localhost:8080/"
    },
    "executionInfo": {
     "elapsed": 118,
     "status": "ok",
     "timestamp": 1689413991353,
     "user": {
      "displayName": "Stephan F.",
      "userId": "04535378717482980778"
     },
     "user_tz": -120
    },
    "id": "JUgJDLMz2qB2",
    "outputId": "e8c70067-4f27-4517-d613-5854b987aa98"
   },
   "outputs": [
    {
     "name": "stdout",
     "output_type": "stream",
     "text": [
      "Number of training samples:    26332\n",
      "Number of validation samples:  5643\n",
      "Number of test samples:        5643\n"
     ]
    }
   ],
   "source": [
    "# Train test split\n",
    "x_train, y_train, x_val, y_val, x_test, y_test = train_val_test_split(x_input, y_input, train_size = 0.7, val_size = 0.15, test_size = 0.15, shuffle = False)\n",
    "variables['x_train_shape'] = x_train.shape\n",
    "variables['x_val_shape'] = x_val.shape\n",
    "variables['x_test_shape'] = x_test.shape"
   ]
  },
  {
   "cell_type": "markdown",
   "metadata": {
    "id": "kCfqYuRpN_b0"
   },
   "source": [
    "### Save data"
   ]
  },
  {
   "cell_type": "code",
   "execution_count": 17,
   "metadata": {
    "executionInfo": {
     "elapsed": 106,
     "status": "ok",
     "timestamp": 1689413991353,
     "user": {
      "displayName": "Stephan F.",
      "userId": "04535378717482980778"
     },
     "user_tz": -120
    },
    "id": "xGcDulDh97f1"
   },
   "outputs": [],
   "source": [
    "# Save the preprocessed data to file\n",
    "np.savez(path_data + variables['filename_processed_dataset'], x_train=x_train, y_train=y_train, x_val = x_val, y_val = y_val, x_test = x_test, y_test = y_test)"
   ]
  },
  {
   "cell_type": "code",
   "execution_count": 18,
   "metadata": {},
   "outputs": [],
   "source": [
    "# Check if predictions file exists and if not create it\n",
    "if os.path.isfile(path_predictions + variables['filename_predictions']):\n",
    "    # If the file exists, load it\n",
    "    data_predictions = np.load(path_predictions + variables['filename_predictions'])\n",
    "else:\n",
    "    np.savez(path_predictions + variables['filename_predictions'], y_test = y_test)\n",
    "    data_predictions = np.load(path_predictions + variables['filename_predictions'])\n",
    "\n",
    "# Update predictions\n",
    "data_predictions_dict = dict(data_predictions)\n",
    "data_predictions_dict['y_test'] = y_test\n",
    "\n",
    "# Save the modified data back to the npz file\n",
    "np.savez(path_predictions + variables['filename_predictions'], **data_predictions_dict)"
   ]
  },
  {
   "cell_type": "code",
   "execution_count": 19,
   "metadata": {
    "executionInfo": {
     "elapsed": 112,
     "status": "ok",
     "timestamp": 1689413991360,
     "user": {
      "displayName": "Stephan F.",
      "userId": "04535378717482980778"
     },
     "user_tz": -120
    },
    "id": "UkvN9Sx397f1"
   },
   "outputs": [],
   "source": [
    "# Store variables in pickle file\n",
    "with open(path_control + filename_variables, 'wb') as file:\n",
    "    pickle.dump(variables, file)"
   ]
  },
  {
   "cell_type": "markdown",
   "metadata": {
    "id": "Q_qImvvVM-ZX"
   },
   "source": [
    "### Summary"
   ]
  },
  {
   "cell_type": "code",
   "execution_count": 24,
   "metadata": {
    "colab": {
     "base_uri": "https://localhost:8080/"
    },
    "executionInfo": {
     "elapsed": 112,
     "status": "ok",
     "timestamp": 1689413991362,
     "user": {
      "displayName": "Stephan F.",
      "userId": "04535378717482980778"
     },
     "user_tz": -120
    },
    "id": "6DXXxrUC4bZ6",
    "outputId": "ecef6319-3ae3-408e-c00b-15c33cc041a4"
   },
   "outputs": [
    {
     "name": "stdout",
     "output_type": "stream",
     "text": [
      "Summary:\n",
      "\n",
      "\n",
      "Dataset:                 BPI_Challenge_2019.xes\n",
      "Filename processed data: preprocessed_data_bpi2019_false.npz\n",
      "Filename variables:      variables_bpi2019_false.pkl\n",
      "\n",
      "\n",
      "vocab (first 6):         ['<pad>' '<unk>' '<start>' '<end>' 'Create-Purchase-Order-Item'\n",
      " 'Receive-Order-Confirmation']\n",
      "vocab_size:              617\n",
      "max_length_trace:        7\n",
      "num_traces:              227314\n",
      "num_ex_activities:       1154439\n",
      "num_features:            2\n",
      "features:                ['concept:name', 'org:resource']\n",
      "interleave:              False\n",
      "\n",
      "\n",
      "Samples in training:     (1616214, 16)\n",
      "Samples in validation:   (346332, 16)\n",
      "Samples in test:         (346332, 16)\n",
      "\n",
      "Report has been written to 'reports/preprocessing/2023-11-18_19-18-31_report_preprocessing_bpi2019_false.txt'\n"
     ]
    }
   ],
   "source": [
    "report_preprocessing(filename_variables, variables, variables['timestamp_preprocessing'], path_reports)"
   ]
  },
  {
   "cell_type": "code",
   "execution_count": null,
   "metadata": {},
   "outputs": [],
   "source": []
  }
 ],
 "metadata": {
  "colab": {
   "gpuType": "T4",
   "provenance": [
    {
     "file_id": "1gQ5uLQxe77ga1U2UdPt06muS8kExHZbK",
     "timestamp": 1689324413467
    }
   ],
   "toc_visible": true
  },
  "kernelspec": {
   "display_name": "env",
   "language": "python",
   "name": "env"
  },
  "language_info": {
   "codemirror_mode": {
    "name": "ipython",
    "version": 3
   },
   "file_extension": ".py",
   "mimetype": "text/x-python",
   "name": "python",
   "nbconvert_exporter": "python",
   "pygments_lexer": "ipython3",
   "version": "3.9.2"
  },
  "widgets": {
   "application/vnd.jupyter.widget-state+json": {
    "1228f2529dbd4cf9b5f88fdff6cf5779": {
     "model_module": "@jupyter-widgets/base",
     "model_module_version": "1.2.0",
     "model_name": "LayoutModel",
     "state": {
      "_model_module": "@jupyter-widgets/base",
      "_model_module_version": "1.2.0",
      "_model_name": "LayoutModel",
      "_view_count": null,
      "_view_module": "@jupyter-widgets/base",
      "_view_module_version": "1.2.0",
      "_view_name": "LayoutView",
      "align_content": null,
      "align_items": null,
      "align_self": null,
      "border": null,
      "bottom": null,
      "display": null,
      "flex": null,
      "flex_flow": null,
      "grid_area": null,
      "grid_auto_columns": null,
      "grid_auto_flow": null,
      "grid_auto_rows": null,
      "grid_column": null,
      "grid_gap": null,
      "grid_row": null,
      "grid_template_areas": null,
      "grid_template_columns": null,
      "grid_template_rows": null,
      "height": null,
      "justify_content": null,
      "justify_items": null,
      "left": null,
      "margin": null,
      "max_height": null,
      "max_width": null,
      "min_height": null,
      "min_width": null,
      "object_fit": null,
      "object_position": null,
      "order": null,
      "overflow": null,
      "overflow_x": null,
      "overflow_y": null,
      "padding": null,
      "right": null,
      "top": null,
      "visibility": null,
      "width": null
     }
    },
    "240b1d66dbc84efea17bad4c47de2f81": {
     "model_module": "@jupyter-widgets/base",
     "model_module_version": "1.2.0",
     "model_name": "LayoutModel",
     "state": {
      "_model_module": "@jupyter-widgets/base",
      "_model_module_version": "1.2.0",
      "_model_name": "LayoutModel",
      "_view_count": null,
      "_view_module": "@jupyter-widgets/base",
      "_view_module_version": "1.2.0",
      "_view_name": "LayoutView",
      "align_content": null,
      "align_items": null,
      "align_self": null,
      "border": null,
      "bottom": null,
      "display": null,
      "flex": null,
      "flex_flow": null,
      "grid_area": null,
      "grid_auto_columns": null,
      "grid_auto_flow": null,
      "grid_auto_rows": null,
      "grid_column": null,
      "grid_gap": null,
      "grid_row": null,
      "grid_template_areas": null,
      "grid_template_columns": null,
      "grid_template_rows": null,
      "height": null,
      "justify_content": null,
      "justify_items": null,
      "left": null,
      "margin": null,
      "max_height": null,
      "max_width": null,
      "min_height": null,
      "min_width": null,
      "object_fit": null,
      "object_position": null,
      "order": null,
      "overflow": null,
      "overflow_x": null,
      "overflow_y": null,
      "padding": null,
      "right": null,
      "top": null,
      "visibility": null,
      "width": null
     }
    },
    "28bf4a7d0633400f9992b3ca241e16e6": {
     "model_module": "@jupyter-widgets/base",
     "model_module_version": "1.2.0",
     "model_name": "LayoutModel",
     "state": {
      "_model_module": "@jupyter-widgets/base",
      "_model_module_version": "1.2.0",
      "_model_name": "LayoutModel",
      "_view_count": null,
      "_view_module": "@jupyter-widgets/base",
      "_view_module_version": "1.2.0",
      "_view_name": "LayoutView",
      "align_content": null,
      "align_items": null,
      "align_self": null,
      "border": null,
      "bottom": null,
      "display": null,
      "flex": null,
      "flex_flow": null,
      "grid_area": null,
      "grid_auto_columns": null,
      "grid_auto_flow": null,
      "grid_auto_rows": null,
      "grid_column": null,
      "grid_gap": null,
      "grid_row": null,
      "grid_template_areas": null,
      "grid_template_columns": null,
      "grid_template_rows": null,
      "height": null,
      "justify_content": null,
      "justify_items": null,
      "left": null,
      "margin": null,
      "max_height": null,
      "max_width": null,
      "min_height": null,
      "min_width": null,
      "object_fit": null,
      "object_position": null,
      "order": null,
      "overflow": null,
      "overflow_x": null,
      "overflow_y": null,
      "padding": null,
      "right": null,
      "top": null,
      "visibility": null,
      "width": null
     }
    },
    "3057d9271e6c4fb1880edf3993cf7671": {
     "model_module": "@jupyter-widgets/controls",
     "model_module_version": "1.5.0",
     "model_name": "ProgressStyleModel",
     "state": {
      "_model_module": "@jupyter-widgets/controls",
      "_model_module_version": "1.5.0",
      "_model_name": "ProgressStyleModel",
      "_view_count": null,
      "_view_module": "@jupyter-widgets/base",
      "_view_module_version": "1.2.0",
      "_view_name": "StyleView",
      "bar_color": null,
      "description_width": ""
     }
    },
    "35fa3e5c6a89490d8ba6479d17c0223c": {
     "model_module": "@jupyter-widgets/controls",
     "model_module_version": "1.5.0",
     "model_name": "HTMLModel",
     "state": {
      "_dom_classes": [],
      "_model_module": "@jupyter-widgets/controls",
      "_model_module_version": "1.5.0",
      "_model_name": "HTMLModel",
      "_view_count": null,
      "_view_module": "@jupyter-widgets/controls",
      "_view_module_version": "1.5.0",
      "_view_name": "HTMLView",
      "description": "",
      "description_tooltip": null,
      "layout": "IPY_MODEL_28bf4a7d0633400f9992b3ca241e16e6",
      "placeholder": "​",
      "style": "IPY_MODEL_7b6474e39cb841f4a8dd05d8ce8485f0",
      "value": "parsing log, completed traces :: 100%"
     }
    },
    "409dee1842874c3893631eca6e79595b": {
     "model_module": "@jupyter-widgets/controls",
     "model_module_version": "1.5.0",
     "model_name": "HBoxModel",
     "state": {
      "_dom_classes": [],
      "_model_module": "@jupyter-widgets/controls",
      "_model_module_version": "1.5.0",
      "_model_name": "HBoxModel",
      "_view_count": null,
      "_view_module": "@jupyter-widgets/controls",
      "_view_module_version": "1.5.0",
      "_view_name": "HBoxView",
      "box_style": "",
      "children": [
       "IPY_MODEL_35fa3e5c6a89490d8ba6479d17c0223c",
       "IPY_MODEL_df108e0c2bc947b8b9c14bfbfd3810d0",
       "IPY_MODEL_ad25e3315b814318abc0502f9993e6cd"
      ],
      "layout": "IPY_MODEL_4b4557cbd38b4092a11ea00dcb0405ec"
     }
    },
    "4b4557cbd38b4092a11ea00dcb0405ec": {
     "model_module": "@jupyter-widgets/base",
     "model_module_version": "1.2.0",
     "model_name": "LayoutModel",
     "state": {
      "_model_module": "@jupyter-widgets/base",
      "_model_module_version": "1.2.0",
      "_model_name": "LayoutModel",
      "_view_count": null,
      "_view_module": "@jupyter-widgets/base",
      "_view_module_version": "1.2.0",
      "_view_name": "LayoutView",
      "align_content": null,
      "align_items": null,
      "align_self": null,
      "border": null,
      "bottom": null,
      "display": null,
      "flex": null,
      "flex_flow": null,
      "grid_area": null,
      "grid_auto_columns": null,
      "grid_auto_flow": null,
      "grid_auto_rows": null,
      "grid_column": null,
      "grid_gap": null,
      "grid_row": null,
      "grid_template_areas": null,
      "grid_template_columns": null,
      "grid_template_rows": null,
      "height": null,
      "justify_content": null,
      "justify_items": null,
      "left": null,
      "margin": null,
      "max_height": null,
      "max_width": null,
      "min_height": null,
      "min_width": null,
      "object_fit": null,
      "object_position": null,
      "order": null,
      "overflow": null,
      "overflow_x": null,
      "overflow_y": null,
      "padding": null,
      "right": null,
      "top": null,
      "visibility": null,
      "width": null
     }
    },
    "7b6474e39cb841f4a8dd05d8ce8485f0": {
     "model_module": "@jupyter-widgets/controls",
     "model_module_version": "1.5.0",
     "model_name": "DescriptionStyleModel",
     "state": {
      "_model_module": "@jupyter-widgets/controls",
      "_model_module_version": "1.5.0",
      "_model_name": "DescriptionStyleModel",
      "_view_count": null,
      "_view_module": "@jupyter-widgets/base",
      "_view_module_version": "1.2.0",
      "_view_name": "StyleView",
      "description_width": ""
     }
    },
    "ad25e3315b814318abc0502f9993e6cd": {
     "model_module": "@jupyter-widgets/controls",
     "model_module_version": "1.5.0",
     "model_name": "HTMLModel",
     "state": {
      "_dom_classes": [],
      "_model_module": "@jupyter-widgets/controls",
      "_model_module_version": "1.5.0",
      "_model_name": "HTMLModel",
      "_view_count": null,
      "_view_module": "@jupyter-widgets/controls",
      "_view_module_version": "1.5.0",
      "_view_name": "HTMLView",
      "description": "",
      "description_tooltip": null,
      "layout": "IPY_MODEL_1228f2529dbd4cf9b5f88fdff6cf5779",
      "placeholder": "​",
      "style": "IPY_MODEL_aedb2e56fffd4feabaafe76ee29d0bab",
      "value": " 100000/100000 [00:45&lt;00:00, 5448.25it/s]"
     }
    },
    "aedb2e56fffd4feabaafe76ee29d0bab": {
     "model_module": "@jupyter-widgets/controls",
     "model_module_version": "1.5.0",
     "model_name": "DescriptionStyleModel",
     "state": {
      "_model_module": "@jupyter-widgets/controls",
      "_model_module_version": "1.5.0",
      "_model_name": "DescriptionStyleModel",
      "_view_count": null,
      "_view_module": "@jupyter-widgets/base",
      "_view_module_version": "1.2.0",
      "_view_name": "StyleView",
      "description_width": ""
     }
    },
    "df108e0c2bc947b8b9c14bfbfd3810d0": {
     "model_module": "@jupyter-widgets/controls",
     "model_module_version": "1.5.0",
     "model_name": "FloatProgressModel",
     "state": {
      "_dom_classes": [],
      "_model_module": "@jupyter-widgets/controls",
      "_model_module_version": "1.5.0",
      "_model_name": "FloatProgressModel",
      "_view_count": null,
      "_view_module": "@jupyter-widgets/controls",
      "_view_module_version": "1.5.0",
      "_view_name": "ProgressView",
      "bar_style": "success",
      "description": "",
      "description_tooltip": null,
      "layout": "IPY_MODEL_240b1d66dbc84efea17bad4c47de2f81",
      "max": 100000,
      "min": 0,
      "orientation": "horizontal",
      "style": "IPY_MODEL_3057d9271e6c4fb1880edf3993cf7671",
      "value": 100000
     }
    }
   }
  }
 },
 "nbformat": 4,
 "nbformat_minor": 4
}
