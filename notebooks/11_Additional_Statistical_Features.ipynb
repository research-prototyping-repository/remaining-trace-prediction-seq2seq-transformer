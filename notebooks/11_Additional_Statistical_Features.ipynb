{
 "cells": [
  {
   "cell_type": "markdown",
   "id": "dcb6b7d9-b993-4c6d-9c8f-08fef03d4a59",
   "metadata": {},
   "source": [
    "# Work environment"
   ]
  },
  {
   "cell_type": "code",
   "execution_count": 1,
   "id": "a7c99061-d4d4-424a-8b3a-2c972ea2313d",
   "metadata": {},
   "outputs": [],
   "source": [
    "# Import\n",
    "import os\n",
    "import numpy as np\n",
    "import pickle\n",
    "from tqdm import tqdm\n",
    "\n",
    "from scipy.stats import skew\n",
    "from src.data.functions_preprocessing_data import load_interim_data\n",
    "from src.data.functions_exploration_data import count_unique_subarrays, count_unique_elements"
   ]
  },
  {
   "cell_type": "code",
   "execution_count": 2,
   "id": "a16131e7-1307-49b7-a936-f23ee7709e93",
   "metadata": {},
   "outputs": [],
   "source": [
    "# Set tensorflow to GPU-only (data is stored as tensors even when tf is not used)\n",
    "os.environ['CUDA_VISIBLE_DEVICES'] = '-1'"
   ]
  },
  {
   "cell_type": "code",
   "execution_count": 3,
   "id": "f42cd814-b653-4b18-943e-8390708e3c87",
   "metadata": {},
   "outputs": [
    {
     "name": "stdout",
     "output_type": "stream",
     "text": [
      "Working directory:  /home/jupyter-sfaatz\n"
     ]
    }
   ],
   "source": [
    "# Change working directory\n",
    "# working_directory = 'c:/Users/Steph/OneDrive - Universität Bayreuth/Masterarbeit/03_Programmierung/remaining_trace_prediction_master_thesis_stephan_faatz'\n",
    "working_directory = '/home/jupyter-sfaatz/'\n",
    "os.chdir(working_directory)\n",
    "print(\"Working directory: \", os.getcwd())"
   ]
  },
  {
   "cell_type": "code",
   "execution_count": 4,
   "id": "04b15643-a981-479a-954f-f0ee4df2d611",
   "metadata": {},
   "outputs": [],
   "source": [
    "# Set path variables\n",
    "path_raw = 'data/raw/'\n",
    "path_interim = 'data/interim/'\n",
    "path_benchmark = 'data/benchmark/'\n",
    "path_data = 'data/processed/'\n",
    "path_control = 'data/control/'\n",
    "path_predictions = 'data/predictions/'\n",
    "path_models = 'models/'\n",
    "path_reports = 'reports/'"
   ]
  },
  {
   "cell_type": "code",
   "execution_count": 5,
   "id": "f034fb84-91fe-4228-bcef-eabf9b285269",
   "metadata": {},
   "outputs": [
    {
     "name": "stderr",
     "output_type": "stream",
     "text": [
      "2023-12-29 21:26:44.216084: I tensorflow/core/platform/cpu_feature_guard.cc:182] This TensorFlow binary is optimized to use available CPU instructions in performance-critical operations.\n",
      "To enable the following instructions: AVX2 FMA, in other operations, rebuild TensorFlow with the appropriate compiler flags.\n",
      "2023-12-29 21:26:44.850029: W tensorflow/compiler/tf2tensorrt/utils/py_utils.cc:38] TF-TRT Warning: Could not find TensorRT\n",
      "2023-12-29 21:26:45.369737: E tensorflow/compiler/xla/stream_executor/cuda/cuda_driver.cc:268] failed call to cuInit: CUDA_ERROR_NO_DEVICE: no CUDA-capable device is detected\n",
      "2023-12-29 21:26:45.369784: I tensorflow/compiler/xla/stream_executor/cuda/cuda_diagnostics.cc:168] retrieving CUDA diagnostic information for host: jupyter-ext-wi\n",
      "2023-12-29 21:26:45.369789: I tensorflow/compiler/xla/stream_executor/cuda/cuda_diagnostics.cc:175] hostname: jupyter-ext-wi\n",
      "2023-12-29 21:26:45.369945: I tensorflow/compiler/xla/stream_executor/cuda/cuda_diagnostics.cc:199] libcuda reported version is: 535.54.3\n",
      "2023-12-29 21:26:45.369962: I tensorflow/compiler/xla/stream_executor/cuda/cuda_diagnostics.cc:203] kernel reported version is: 535.54.3\n",
      "2023-12-29 21:26:45.369966: I tensorflow/compiler/xla/stream_executor/cuda/cuda_diagnostics.cc:309] kernel version seems to match DSO: 535.54.3\n"
     ]
    }
   ],
   "source": [
    "# Load variables\n",
    "filename_variables = 'variables_bpi2019_true.pkl'\n",
    "with open(path_control + filename_variables, 'rb') as file:\n",
    "    variables = pickle.load(file)"
   ]
  },
  {
   "cell_type": "code",
   "execution_count": 6,
   "id": "82d20076-ade7-47fb-8026-a0113371ae07",
   "metadata": {},
   "outputs": [
    {
     "name": "stdout",
     "output_type": "stream",
     "text": [
      "\n",
      "mapped_array shape:  (227314,)\n",
      "\n",
      "\n"
     ]
    }
   ],
   "source": [
    "# Load interim data\n",
    "mapped_array = load_interim_data(path_interim + variables['filename_interim_dataset'])"
   ]
  },
  {
   "cell_type": "markdown",
   "id": "c38f8b3a-6ac2-4bb1-8566-59c5a69489d7",
   "metadata": {},
   "source": [
    "### Skewness"
   ]
  },
  {
   "cell_type": "code",
   "execution_count": 7,
   "id": "e81da8e0-2cb0-47c2-a9ef-6ecd88e18319",
   "metadata": {},
   "outputs": [],
   "source": [
    "# Examine trace length\n",
    "trace_length = [len(arr) for arr in mapped_array]"
   ]
  },
  {
   "cell_type": "code",
   "execution_count": 8,
   "id": "f01abf45-fbcb-4e24-a994-86289d6c60ef",
   "metadata": {},
   "outputs": [],
   "source": [
    "# Calculate skewness\n",
    "skewness = skew(trace_length)\n",
    "# print(skewness)"
   ]
  },
  {
   "cell_type": "markdown",
   "id": "8eeeef12-13c9-460e-b69a-a3510859c941",
   "metadata": {},
   "source": [
    "### Sparsity"
   ]
  },
  {
   "cell_type": "code",
   "execution_count": 9,
   "id": "45f6ac0e-cee0-4142-917b-1b64710a6f8d",
   "metadata": {},
   "outputs": [
    {
     "name": "stderr",
     "output_type": "stream",
     "text": [
      "Counting: 100%|██████████| 227314/227314 [00:00<00:00, 1361540.27it/s]"
     ]
    },
    {
     "name": "stdout",
     "output_type": "stream",
     "text": [
      "Number of unique elements:  613\n",
      "Sparsity: 0.0026967102774136218\n"
     ]
    },
    {
     "name": "stderr",
     "output_type": "stream",
     "text": [
      "\n"
     ]
    }
   ],
   "source": [
    "# Calculate sparsity\n",
    "num_unique_elements = count_unique_elements(mapped_array)\n",
    "print(\"Number of unique elements: \", num_unique_elements)\n",
    "sparsity = num_unique_elements/len(mapped_array)\n",
    "print(\"Sparsity:\", sparsity)"
   ]
  },
  {
   "cell_type": "markdown",
   "id": "9e2a8f33-a777-4803-a75a-3421d990119b",
   "metadata": {
    "tags": []
   },
   "source": [
    "### Variation"
   ]
  },
  {
   "cell_type": "code",
   "execution_count": 10,
   "id": "ea45d8d2-3665-4d59-8918-d472195cf025",
   "metadata": {},
   "outputs": [
    {
     "name": "stderr",
     "output_type": "stream",
     "text": [
      "Counting: 227314it [00:00, 1110706.76it/s]"
     ]
    },
    {
     "name": "stdout",
     "output_type": "stream",
     "text": [
      "Number of unique arrays:  35512\n",
      "Variation:  0.15622442964357672\n"
     ]
    },
    {
     "name": "stderr",
     "output_type": "stream",
     "text": [
      "\n"
     ]
    }
   ],
   "source": [
    "# Calculate variation\n",
    "num_unique_array = count_unique_subarrays(mapped_array)\n",
    "print(\"Number of unique arrays: \", num_unique_array)\n",
    "variation = num_unique_array/variables['num_traces'] \n",
    "print(\"Variation: \", variation)"
   ]
  },
  {
   "cell_type": "markdown",
   "id": "6bd3cc14-b123-43d0-884a-9c9666bd3276",
   "metadata": {
    "tags": []
   },
   "source": [
    "### Repetitiveness"
   ]
  },
  {
   "cell_type": "code",
   "execution_count": 11,
   "id": "2e8bc919-4336-4596-b0cd-f1c865694a54",
   "metadata": {},
   "outputs": [
    {
     "name": "stdout",
     "output_type": "stream",
     "text": [
      "Average number of unique elements: 9.895562965765418\n",
      "Trace length mean: 10.157218649093325\n",
      "Repetitiveness:  1.026441717791411\n"
     ]
    }
   ],
   "source": [
    "# Calculate the number of unique elements in each array\n",
    "unique_counts = [len(np.unique(arr)) for arr in mapped_array]\n",
    "\n",
    "# Calculate the average number of unique elements\n",
    "average_unique_count = np.mean(unique_counts)\n",
    "\n",
    "print(\"Average number of unique elements:\", average_unique_count)\n",
    "print(\"Trace length mean:\", np.array(trace_length).mean())\n",
    "# Calculate the repetitiveness\n",
    "print(\"Repetitiveness: \", np.array(trace_length).mean()/average_unique_count)"
   ]
  }
 ],
 "metadata": {
  "kernelspec": {
   "display_name": "env",
   "language": "python",
   "name": "env"
  },
  "language_info": {
   "codemirror_mode": {
    "name": "ipython",
    "version": 3
   },
   "file_extension": ".py",
   "mimetype": "text/x-python",
   "name": "python",
   "nbconvert_exporter": "python",
   "pygments_lexer": "ipython3",
   "version": "3.9.2"
  }
 },
 "nbformat": 4,
 "nbformat_minor": 5
}
